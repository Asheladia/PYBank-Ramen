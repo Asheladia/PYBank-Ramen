from pathlib import Path
import csv
import os
csvpath = Path('../Python Homework/pyBank_Resources_budget_data.csv')
line_num = 0
balance = []
months = []
profitloss_changes = []
total_months = 0
net_total = 0
current = 0
avg_change = 0
profitloss_change = 0
previous_month = 0
current_month = 0
sum_changes = 0
gr_increase = 0
gr_decrease = 0


with open(csvpath, newline = '') as csvfile:
    csvreader = csv.reader(csvfile, delimiter=',')
  #  print(type(csvreader))
    
    header = next(csvreader)
    line_num += 1

    
    for row in csvreader:
        total_months += 1  
        current_month = int(row[1])
        net_total += current_month
    if total_months == 1:
        previous_month = current_month
         
    else:
        profitloss_change = current_month - previous_month
        profitloss_changes.append(profitloss_change)
        previous_month = current_month
        
        
    sum_changes = sum(profitloss_changes)      
    avg_change = round((sum_changes / (total_months -1)),2)
    gr_increase = max(profitloss_changes)
    gr_increase_index = profitloss_changes.index(gr_increase)
    
    greatest_date = months[gr_increase_index]
    
    gr_decrease = min(profitloss_changes)
    gr_decrease_index = profitloss_changes.index(gr_decrease)
    
    worst_date = months[gr_decrease_index]
    
        
 
#Print information
print("Financial Analysis")
print("---------------------")
print(f"Total Months: {str(total_months)}")
print(f"Total: ${str(net_total)}")
print(f"Average Change: ${str(round(avg_change,2))}")
print(f"Greatest Increase in Profits: {greatest_date} (${str(gr_increase)})")
print(f"Greatest Decrease in Profits: {worst_date} (${str(gr_decrease)})")
