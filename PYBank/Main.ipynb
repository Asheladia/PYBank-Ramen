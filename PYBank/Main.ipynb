{
 "cells": [
  {
   "cell_type": "code",
   "execution_count": 1,
   "metadata": {},
   "outputs": [
    {
     "name": "stdout",
     "output_type": "stream",
     "text": [
      "Financial Analysis\n",
      "---------------------\n",
      "Total Months: 86\n",
      "Total: $38382578\n",
      "Average Change: $-2315.12\n",
      "Greatest Increase in Profits: Feb-2012 ($1926159)\n",
      "Greatest Decrease in Profits: Sep-2013 ($-2196167)\n"
     ]
    }
   ],
   "source": [
    "from pathlib import Path\n",
    "import csv\n",
    "import os\n",
    "csvpath = Path('../PyBank_Resources_budget_data.csv')\n",
    "line_num = 0\n",
    "balance = []\n",
    "months = []\n",
    "profitloss_changes = []\n",
    "total_months = 0\n",
    "net_total = 0\n",
    "current = 0\n",
    "avg_change = 0\n",
    "profitloss_change = 0\n",
    "previous_month = 0\n",
    "current_month = 0\n",
    "sum_changes = 0\n",
    "gr_increase = 0\n",
    "gr_decrease = 0\n",
    "\n",
    "\n",
    "with open(csvpath, newline = '') as csvfile:\n",
    "    csvreader = csv.reader(csvfile, delimiter=',')\n",
    "  #  print(type(csvreader))\n",
    "    \n",
    "    header = next(csvreader)\n",
    "    line_num += 1\n",
    "\n",
    "    \n",
    "    for row in csvreader:\n",
    "        total_months += 1  \n",
    "        current_month = int(row[1])\n",
    "        net_total += current_month\n",
    "        \n",
    "        if total_months == 1:\n",
    "            previous_month = current_month\n",
    "         \n",
    "        else:\n",
    "            profitloss_change = current_month - previous_month\n",
    "        \n",
    "            profitloss_changes.append(profitloss_change)\n",
    "        \n",
    "        \n",
    "            previous_month = current_month \n",
    "            months.append(row[0])\n",
    "        \n",
    "    sum_changes = sum(profitloss_changes)      \n",
    "    avg_change = round((sum_changes / (total_months -1)),2)\n",
    "    gr_increase = max(profitloss_changes)\n",
    "    gr_increase_index = profitloss_changes.index(gr_increase)\n",
    "    \n",
    "    greatest_date = months[gr_increase_index]\n",
    "    \n",
    "    gr_decrease = min(profitloss_changes)\n",
    "    gr_decrease_index = profitloss_changes.index(gr_decrease)\n",
    "    \n",
    "    worst_date = months[gr_decrease_index]\n",
    "    \n",
    "        \n",
    " \n",
    "#Displaying information\n",
    "print(\"Financial Analysis\")\n",
    "print(\"---------------------\")\n",
    "print(f\"Total Months: {str(total_months)}\")\n",
    "print(f\"Total: ${str(net_total)}\")\n",
    "print(f\"Average Change: ${str(round(avg_change,2))}\")\n",
    "print(f\"Greatest Increase in Profits: {greatest_date} (${str(gr_increase)})\")\n",
    "print(f\"Greatest Decrease in Profits: {worst_date} (${str(gr_decrease)})\")      "
   ]
  },
  {
   "cell_type": "code",
   "execution_count": null,
   "metadata": {},
   "outputs": [],
   "source": []
  }
 ],
 "metadata": {
  "kernelspec": {
   "display_name": "Python 3",
   "language": "python",
   "name": "python3"
  },
  "language_info": {
   "codemirror_mode": {
    "name": "ipython",
    "version": 3
   },
   "file_extension": ".py",
   "mimetype": "text/x-python",
   "name": "python",
   "nbconvert_exporter": "python",
   "pygments_lexer": "ipython3",
   "version": "3.7.6"
  }
 },
 "nbformat": 4,
 "nbformat_minor": 4
}
